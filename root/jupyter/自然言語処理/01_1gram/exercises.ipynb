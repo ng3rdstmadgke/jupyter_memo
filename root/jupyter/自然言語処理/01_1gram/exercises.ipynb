{
 "cells": [
  {
   "cell_type": "code",
   "execution_count": 53,
   "metadata": {},
   "outputs": [],
   "source": [
    "import math\n",
    "\n",
    "class UnigramModel:\n",
    "    def __init__(self):\n",
    "        self.probs = {};\n",
    "    \n",
    "    def struct(self, input_file, model_file):\n",
    "        \"\"\"モデルを構築してファイルに書き込む\n",
    "        \"\"\"\n",
    "        word_count = {}\n",
    "        total_count = 0\n",
    "        for line in UnigramModel._read_lines(input_file):\n",
    "            words = line.split(\" \")\n",
    "            words.append(\"</s>\")\n",
    "            for word in words:\n",
    "                if word in word_count:\n",
    "                    word_count[word] += 1\n",
    "                else:\n",
    "                    word_count[word] = 1\n",
    "                total_count += 1\n",
    "        with open(model_file, \"w\") as writer:\n",
    "            for word in word_count:\n",
    "                count = word_count[word]\n",
    "                prob = count / total_count\n",
    "                writer.write(\"{} {}\\n\".format(word, prob))\n",
    "\n",
    "    def load(self, model_file):\n",
    "        \"\"\"ファイルからモデルを読み込む\n",
    "        \"\"\"\n",
    "        for line in UnigramModel._read_lines(model_file):\n",
    "            (word, prob) = line.split(\" \")\n",
    "            self.probs[word] = float(prob);\n",
    "    \n",
    "    def evaluate(self, test_file):\n",
    "        \"\"\"モデルの評価を行う\n",
    "        \"\"\"\n",
    "        lambda_1 = 0.95 # 単語の出現確率に割り当てるウェイト\n",
    "        lambda_unk = 1 - lambda_1 # 未知語に割り当てるウェイト\n",
    "        V = 1000000 # 英単語の語彙数\n",
    "        W = 0 # 単語数\n",
    "        H = 0 # 負の底2の対数尤度\n",
    "        unk = 0 # 未知語数\n",
    "        for line in UnigramModel._read_lines(test_file):\n",
    "            words = line.split(\" \")\n",
    "            words.append(\"</s>\")\n",
    "            for word in words:\n",
    "                W += 1\n",
    "                prob = lambda_unk / V # 未知語の確率\n",
    "                if word in self.probs:\n",
    "                    prob += lambda_1 * self.probs[word] # 単語の出現確率\n",
    "                else:\n",
    "                    unk += 1\n",
    "                H -= math.log2(prob)\n",
    "        return {\n",
    "            \"entropy\": H / W,\n",
    "            \"coverage\": (W - unk) / W\n",
    "        }\n",
    "\n",
    "    def _read_lines(file):\n",
    "        with open(file) as fh:\n",
    "            while True:\n",
    "                line = fh.readline().rstrip(\"\\n\\r\")\n",
    "                if not line:\n",
    "                    break\n",
    "                yield line"
   ]
  },
  {
   "cell_type": "code",
   "execution_count": 54,
   "metadata": {},
   "outputs": [
    {
     "data": {
      "text/plain": [
       "{'entropy': 6.709899494272102, 'coverage': 0.8}"
      ]
     },
     "execution_count": 54,
     "metadata": {},
     "output_type": "execute_result"
    }
   ],
   "source": [
    "input_file = \"01-train-input.txt\"\n",
    "test_file = \"01-test-input.txt\"\n",
    "model_file = \"model_sample.txt\"\n",
    "\n",
    "model = UnigramModel()\n",
    "model.struct(input_file, model_file)\n",
    "model.load(model_file)\n",
    "model.evaluate(test_file) # {'entropy': 6.709899494272102, 'coverage': 0.8}"
   ]
  },
  {
   "cell_type": "code",
   "execution_count": 55,
   "metadata": {},
   "outputs": [
    {
     "data": {
      "text/plain": [
       "{'entropy': 10.527337238682652, 'coverage': 0.895226024503591}"
      ]
     },
     "execution_count": 55,
     "metadata": {},
     "output_type": "execute_result"
    }
   ],
   "source": [
    "input_file = \"wiki-en-train.word\"\n",
    "test_file = \"wiki-en-test.word\"\n",
    "model_file = \"model_wiki.txt\"\n",
    "\n",
    "model = UnigramModel()\n",
    "model.struct(input_file, model_file)\n",
    "model.load(model_file)\n",
    "model.evaluate(test_file) # {'entropy': 10.527337238682652, 'coverage': 0.895226024503591}"
   ]
  },
  {
   "cell_type": "code",
   "execution_count": null,
   "metadata": {},
   "outputs": [],
   "source": []
  }
 ],
 "metadata": {
  "kernelspec": {
   "display_name": "Python 3",
   "language": "python",
   "name": "python3"
  },
  "language_info": {
   "codemirror_mode": {
    "name": "ipython",
    "version": 3
   },
   "file_extension": ".py",
   "mimetype": "text/x-python",
   "name": "python",
   "nbconvert_exporter": "python",
   "pygments_lexer": "ipython3",
   "version": "3.6.8"
  }
 },
 "nbformat": 4,
 "nbformat_minor": 4
}
